{
 "cells": [
  {
   "cell_type": "code",
   "execution_count": 1,
   "metadata": {},
   "outputs": [
    {
     "name": "stderr",
     "output_type": "stream",
     "text": [
      "Using TensorFlow backend.\n"
     ]
    }
   ],
   "source": [
    "import numpy as np\n",
    "import pandas as pd\n",
    "\n",
    "from keras.utils import to_categorical\n",
    "from keras.models import Sequential\n",
    "from keras.models import Model\n",
    "from keras import callbacks\n",
    "from keras.layers import Dense,Dropout,BatchNormalization,Convolution1D, MaxPooling1D, Flatten,LSTM\n",
    "from keras.callbacks import ModelCheckpoint, ReduceLROnPlateau, CSVLogger\n",
    "\n",
    "\n",
    "from sklearn.model_selection import train_test_split\n",
    "from sklearn.preprocessing import Normalizer\n",
    "from sklearn.metrics import accuracy_score,roc_curve,auc,f1_score\n",
    "from sklearn.metrics import confusion_matrix,classification_report\n",
    "from sklearn.metrics import precision_score,recall_score\n",
    "\n",
    "from sklearn.linear_model import LogisticRegression\n",
    "from sklearn.naive_bayes import GaussianNB\n",
    "from sklearn.metrics import accuracy_score\n",
    "from sklearn.neighbors import KNeighborsClassifier\n",
    "from sklearn.tree import DecisionTreeClassifier\n",
    "from sklearn.ensemble import AdaBoostClassifier\n",
    "from sklearn.ensemble import RandomForestClassifier\n",
    "from sklearn import svm\n",
    "from sklearn.svm import SVC\n",
    "\n",
    "from art.attacks import FastGradientMethod, SaliencyMapMethod, BasicIterativeMethod\n",
    "from art.attacks import CarliniL2Method, CarliniLInfMethod, ZooAttack, DeepFool, BoundaryAttack\n",
    "from art.attacks import ElasticNet, NewtonFool, ProjectedGradientDescent, VirtualAdversarialMethod\n",
    "from art.classifiers import KerasClassifier\n",
    "\n",
    "import matplotlib\n",
    "#matplotlib.use('Agg')\n",
    "import matplotlib.pyplot as plt\n",
    "#plt.style.use('bmh')\n",
    "\n",
    "%matplotlib inline"
   ]
  },
  {
   "cell_type": "code",
   "execution_count": 2,
   "metadata": {},
   "outputs": [],
   "source": [
    "names=['duration','protocol_type','service','flag','src_bytes','dst_bytes','land',\n",
    "       'wrong_fragment','urgent','hot','num_failed_logins','logged_in','num_compromised',\n",
    "       'root_shell','su_attempted','num_root','num_file_creations','num_shells',\n",
    "       'num_access_files','num_outbound_cmds','is_host_login','is_guest_login',\n",
    "       'count','srv_count','serror_rate','srv_serror_rate','rerror_rate','srv_rerror_rate'\n",
    "       ,'same_srv_rate','diff_srv_rate','srv_diff_host_rate','dst_host_count',\n",
    "       'dst_host_srv_count','dst_host_same_srv_rate','dst_host_diff_srv_rate',\n",
    "       'dst_host_same_src_port_rate','dst_host_srv_diff_host_rate','dst_host_serror_rate',\n",
    "       'dst_host_srv_serror_rate','dst_host_rerror_rate','dst_host_srv_rerror_rate',\n",
    "       'connection_type','label']"
   ]
  },
  {
   "cell_type": "code",
   "execution_count": 3,
   "metadata": {},
   "outputs": [
    {
     "name": "stdout",
     "output_type": "stream",
     "text": [
      "Shape of Train and Test DF :  (125973, 43)  :  (22544, 43)\n"
     ]
    }
   ],
   "source": [
    "traindata = pd.read_csv('data/Training.csv',names=names,header=None)\n",
    "testdata = pd.read_csv('data/Testing.csv',names=names, header=None)\n",
    "print(\"Shape of Train and Test DF : \",traindata.shape,\" : \",testdata.shape)"
   ]
  },
  {
   "cell_type": "code",
   "execution_count": 4,
   "metadata": {},
   "outputs": [
    {
     "name": "stdout",
     "output_type": "stream",
     "text": [
      "Shape of Train and Test :  (125973, 41)  :  (22544, 41)\n"
     ]
    }
   ],
   "source": [
    "x_train = np.array(traindata.iloc[:,0:41])\n",
    "x_test = np.array(testdata.iloc[:,0:41])\n",
    "\n",
    "y_train =  np.array(traindata.iloc[:,42])\n",
    "y_test = np.array(testdata.iloc[:,42])\n",
    "\n",
    "print(\"Shape of Train and Test : \",x_train.shape,\" : \",x_test.shape)"
   ]
  },
  {
   "cell_type": "code",
   "execution_count": 5,
   "metadata": {},
   "outputs": [],
   "source": [
    "scaler = Normalizer().fit(x_train)\n",
    "x_train = scaler.transform(x_train)\n",
    "x_test = scaler.transform(x_test)"
   ]
  },
  {
   "cell_type": "code",
   "execution_count": 6,
   "metadata": {},
   "outputs": [],
   "source": [
    "y_train_oh= to_categorical(y_train)\n",
    "y_test_oh= to_categorical(y_test)"
   ]
  },
  {
   "cell_type": "code",
   "execution_count": 7,
   "metadata": {},
   "outputs": [
    {
     "name": "stdout",
     "output_type": "stream",
     "text": [
      "Shape of Train and Test :  (125973, 41)  :  (22544, 41)\n"
     ]
    }
   ],
   "source": [
    "x_train_lstm = np.reshape(x_train, (x_train.shape[0],1,x_train.shape[1]))\n",
    "x_test_lstm = np.reshape(x_test, (x_test.shape[0],1,x_test.shape[1]))\n",
    "print(\"Shape of Train and Test : \",x_train.shape,\" : \",x_test.shape)"
   ]
  },
  {
   "cell_type": "code",
   "execution_count": 8,
   "metadata": {},
   "outputs": [
    {
     "name": "stdout",
     "output_type": "stream",
     "text": [
      "Shape of Train and Test :  (125973, 41)  :  (22544, 41)\n"
     ]
    }
   ],
   "source": [
    "x_train_cnn = np.reshape(x_train, (x_train.shape[0],x_train.shape[1],1))\n",
    "x_test_cnn = np.reshape(x_test, (x_test.shape[0],x_test.shape[1],1))\n",
    "print(\"Shape of Train and Test : \",x_train.shape,\" : \",x_test.shape)"
   ]
  },
  {
   "cell_type": "code",
   "execution_count": 9,
   "metadata": {},
   "outputs": [],
   "source": [
    "def printMetrics(true,pred):\n",
    "    print(\"Accuracy : \",accuracy_score(true, pred))\n",
    "    print(\"Precision\",precision_score(true, pred , average=\"weighted\"))\n",
    "    print(\"Recall : \",recall_score(true, pred , average=\"weighted\"))\n",
    "    print(\"F1-score : \",f1_score(true, pred, average=\"weighted\"))\n",
    "    print(\"Confusion Matrix : \")\n",
    "    print(confusion_matrix(true, pred))"
   ]
  },
  {
   "cell_type": "code",
   "execution_count": 10,
   "metadata": {},
   "outputs": [],
   "source": [
    "def adversarialFeatures(actual,adversarial,data):\n",
    "    feats=dict()\n",
    "    total=0\n",
    "    orig_attack=actual - adversarial\n",
    "    for i in range(0,orig_attack.shape [0]) :\n",
    "        ind=np.where(orig_attack [i,:] != 0) [0]\n",
    "        total += len(ind)\n",
    "        for j in ind :\n",
    "            if j in feats :\n",
    "                feats [j] += 1\n",
    "            else :\n",
    "                feats [j]=1\n",
    "                \n",
    "    # The number of features that where changed for the adversarial samples\n",
    "    print(\" Number of unique features changed :\",len(feats.keys()))\n",
    "    print(\" Number of average features changed per datapoint \",total / len(orig_attack))\n",
    "\n",
    "    top_10=sorted(feats,key=feats.get,reverse=True) [:10]\n",
    "    top_20=sorted(feats,key=feats.get,reverse=True) [:20]\n",
    "\n",
    "\n",
    "    print(\" Top ten features :\",data.columns [ top_10 ])\n",
    "\n",
    "    top_10_val=[100* feats [k ] / y_test.shape [0] for k in top_10 ]\n",
    "    top_20_val=[100* feats [k ] / y_test.shape [0] for k in top_20 ]\n",
    "\n",
    "\n",
    "    plt.bar(np.arange(20),top_20_val,align ='center')\n",
    "    plt.xticks(np.arange(20),data.columns [ top_20 ],rotation ='vertical')\n",
    "    plt.title('Feature participation in adversarial examples')\n",
    "    plt.ylabel('Percentage(%)')\n",
    "    plt.xlabel('Features')"
   ]
  },
  {
   "cell_type": "code",
   "execution_count": 11,
   "metadata": {},
   "outputs": [
    {
     "name": "stdout",
     "output_type": "stream",
     "text": [
      "WARNING:tensorflow:From c:\\users\\sriram\\appdata\\local\\programs\\python\\python37\\lib\\site-packages\\tensorflow\\python\\framework\\op_def_library.py:263: colocate_with (from tensorflow.python.framework.ops) is deprecated and will be removed in a future version.\n",
      "Instructions for updating:\n",
      "Colocations handled automatically by placer.\n",
      "WARNING:tensorflow:From c:\\users\\sriram\\appdata\\local\\programs\\python\\python37\\lib\\site-packages\\keras\\backend\\tensorflow_backend.py:3445: calling dropout (from tensorflow.python.ops.nn_ops) with keep_prob is deprecated and will be removed in a future version.\n",
      "Instructions for updating:\n",
      "Please use `rate` instead of `keep_prob`. Rate should be set to `rate = 1 - keep_prob`.\n",
      "_________________________________________________________________\n",
      "Layer (type)                 Output Shape              Param #   \n",
      "=================================================================\n",
      "dense_1 (Dense)              (None, 1024)              43008     \n",
      "_________________________________________________________________\n",
      "batch_normalization_1 (Batch (None, 1024)              4096      \n",
      "_________________________________________________________________\n",
      "dropout_1 (Dropout)          (None, 1024)              0         \n",
      "_________________________________________________________________\n",
      "dense_2 (Dense)              (None, 768)               787200    \n",
      "_________________________________________________________________\n",
      "batch_normalization_2 (Batch (None, 768)               3072      \n",
      "_________________________________________________________________\n",
      "dropout_2 (Dropout)          (None, 768)               0         \n",
      "_________________________________________________________________\n",
      "dense_3 (Dense)              (None, 512)               393728    \n",
      "_________________________________________________________________\n",
      "batch_normalization_3 (Batch (None, 512)               2048      \n",
      "_________________________________________________________________\n",
      "dropout_3 (Dropout)          (None, 512)               0         \n",
      "_________________________________________________________________\n",
      "dense_4 (Dense)              (None, 256)               131328    \n",
      "_________________________________________________________________\n",
      "batch_normalization_4 (Batch (None, 256)               1024      \n",
      "_________________________________________________________________\n",
      "dropout_4 (Dropout)          (None, 256)               0         \n",
      "_________________________________________________________________\n",
      "dense_5 (Dense)              (None, 128)               32896     \n",
      "_________________________________________________________________\n",
      "batch_normalization_5 (Batch (None, 128)               512       \n",
      "_________________________________________________________________\n",
      "dropout_5 (Dropout)          (None, 128)               0         \n",
      "_________________________________________________________________\n",
      "dense_6 (Dense)              (None, 5)                 645       \n",
      "=================================================================\n",
      "Total params: 1,399,557\n",
      "Trainable params: 1,394,181\n",
      "Non-trainable params: 5,376\n",
      "_________________________________________________________________\n"
     ]
    }
   ],
   "source": [
    "dnnmodel = Sequential()\n",
    "dnnmodel.add(Dense(1024,input_dim=41,activation='relu'))\n",
    "dnnmodel.add(BatchNormalization())\n",
    "dnnmodel.add(Dropout(0.01))\n",
    "dnnmodel.add(Dense(768,activation='relu'))\n",
    "dnnmodel.add(BatchNormalization())\n",
    "dnnmodel.add(Dropout(0.01))\n",
    "dnnmodel.add(Dense(512,activation='relu')) \n",
    "dnnmodel.add(BatchNormalization())\n",
    "dnnmodel.add(Dropout(0.01))\n",
    "dnnmodel.add(Dense(256,activation='relu'))\n",
    "dnnmodel.add(BatchNormalization())\n",
    "dnnmodel.add(Dropout(0.01))\n",
    "dnnmodel.add(Dense(128,activation='relu')) \n",
    "dnnmodel.add(BatchNormalization())\n",
    "dnnmodel.add(Dropout(0.01))\n",
    "dnnmodel.add(Dense(5,activation='softmax'))\n",
    "dnnmodel.compile(loss='categorical_crossentropy',optimizer='adam',metrics=['accuracy'])\n",
    "dnnmodel.summary()"
   ]
  },
  {
   "cell_type": "code",
   "execution_count": 12,
   "metadata": {},
   "outputs": [
    {
     "name": "stdout",
     "output_type": "stream",
     "text": [
      "_________________________________________________________________\n",
      "Layer (type)                 Output Shape              Param #   \n",
      "=================================================================\n",
      "conv1d_1 (Conv1D)            (None, 41, 64)            256       \n",
      "_________________________________________________________________\n",
      "conv1d_2 (Conv1D)            (None, 41, 64)            12352     \n",
      "_________________________________________________________________\n",
      "max_pooling1d_1 (MaxPooling1 (None, 20, 64)            0         \n",
      "_________________________________________________________________\n",
      "conv1d_3 (Conv1D)            (None, 20, 128)           24704     \n",
      "_________________________________________________________________\n",
      "conv1d_4 (Conv1D)            (None, 20, 128)           49280     \n",
      "_________________________________________________________________\n",
      "max_pooling1d_2 (MaxPooling1 (None, 10, 128)           0         \n",
      "_________________________________________________________________\n",
      "flatten_1 (Flatten)          (None, 1280)              0         \n",
      "_________________________________________________________________\n",
      "dense_7 (Dense)              (None, 128)               163968    \n",
      "_________________________________________________________________\n",
      "dropout_6 (Dropout)          (None, 128)               0         \n",
      "_________________________________________________________________\n",
      "dense_8 (Dense)              (None, 5)                 645       \n",
      "=================================================================\n",
      "Total params: 251,205\n",
      "Trainable params: 251,205\n",
      "Non-trainable params: 0\n",
      "_________________________________________________________________\n"
     ]
    },
    {
     "name": "stderr",
     "output_type": "stream",
     "text": [
      "c:\\users\\sriram\\appdata\\local\\programs\\python\\python37\\lib\\site-packages\\ipykernel_launcher.py:2: UserWarning: Update your `Conv1D` call to the Keras 2 API: `Conv1D(64, 3, activation=\"relu\", input_shape=(41, 1), padding=\"same\")`\n",
      "  \n",
      "c:\\users\\sriram\\appdata\\local\\programs\\python\\python37\\lib\\site-packages\\ipykernel_launcher.py:3: UserWarning: Update your `Conv1D` call to the Keras 2 API: `Conv1D(64, 3, activation=\"relu\", padding=\"same\")`\n",
      "  This is separate from the ipykernel package so we can avoid doing imports until\n",
      "c:\\users\\sriram\\appdata\\local\\programs\\python\\python37\\lib\\site-packages\\ipykernel_launcher.py:4: UserWarning: Update your `MaxPooling1D` call to the Keras 2 API: `MaxPooling1D(pool_size=2)`\n",
      "  after removing the cwd from sys.path.\n",
      "c:\\users\\sriram\\appdata\\local\\programs\\python\\python37\\lib\\site-packages\\ipykernel_launcher.py:5: UserWarning: Update your `Conv1D` call to the Keras 2 API: `Conv1D(128, 3, activation=\"relu\", padding=\"same\")`\n",
      "  \"\"\"\n",
      "c:\\users\\sriram\\appdata\\local\\programs\\python\\python37\\lib\\site-packages\\ipykernel_launcher.py:6: UserWarning: Update your `Conv1D` call to the Keras 2 API: `Conv1D(128, 3, activation=\"relu\", padding=\"same\")`\n",
      "  \n",
      "c:\\users\\sriram\\appdata\\local\\programs\\python\\python37\\lib\\site-packages\\ipykernel_launcher.py:7: UserWarning: Update your `MaxPooling1D` call to the Keras 2 API: `MaxPooling1D(pool_size=2)`\n",
      "  import sys\n"
     ]
    }
   ],
   "source": [
    "cnnmodel = Sequential()\n",
    "cnnmodel.add(Convolution1D(64, 3, border_mode=\"same\",activation=\"relu\",input_shape=(41, 1)))\n",
    "cnnmodel.add(Convolution1D(64, 3, border_mode=\"same\", activation=\"relu\"))\n",
    "cnnmodel.add(MaxPooling1D(pool_length=(2)))\n",
    "cnnmodel.add(Convolution1D(128, 3, border_mode=\"same\", activation=\"relu\"))\n",
    "cnnmodel.add(Convolution1D(128, 3, border_mode=\"same\", activation=\"relu\"))\n",
    "cnnmodel.add(MaxPooling1D(pool_length=(2)))\n",
    "cnnmodel.add(Flatten())\n",
    "cnnmodel.add(Dense(128, activation=\"relu\"))\n",
    "cnnmodel.add(Dropout(0.5))\n",
    "cnnmodel.add(Dense(5, activation=\"softmax\"))\n",
    "cnnmodel.compile(loss='categorical_crossentropy',optimizer='adam',metrics=['accuracy'])\n",
    "cnnmodel.summary()"
   ]
  },
  {
   "cell_type": "code",
   "execution_count": 13,
   "metadata": {},
   "outputs": [
    {
     "name": "stderr",
     "output_type": "stream",
     "text": [
      "c:\\users\\sriram\\appdata\\local\\programs\\python\\python37\\lib\\site-packages\\ipykernel_launcher.py:2: UserWarning: The `input_dim` and `input_length` arguments in recurrent layers are deprecated. Use `input_shape` instead.\n",
      "  \n",
      "c:\\users\\sriram\\appdata\\local\\programs\\python\\python37\\lib\\site-packages\\ipykernel_launcher.py:2: UserWarning: Update your `LSTM` call to the Keras 2 API: `LSTM(64, return_sequences=True, input_shape=(None, 41))`\n",
      "  \n"
     ]
    },
    {
     "name": "stdout",
     "output_type": "stream",
     "text": [
      "_________________________________________________________________\n",
      "Layer (type)                 Output Shape              Param #   \n",
      "=================================================================\n",
      "lstm_1 (LSTM)                (None, None, 64)          27136     \n",
      "_________________________________________________________________\n",
      "dropout_7 (Dropout)          (None, None, 64)          0         \n",
      "_________________________________________________________________\n",
      "lstm_2 (LSTM)                (None, None, 64)          33024     \n",
      "_________________________________________________________________\n",
      "dropout_8 (Dropout)          (None, None, 64)          0         \n",
      "_________________________________________________________________\n",
      "lstm_3 (LSTM)                (None, None, 64)          33024     \n",
      "_________________________________________________________________\n",
      "dropout_9 (Dropout)          (None, None, 64)          0         \n",
      "_________________________________________________________________\n",
      "lstm_4 (LSTM)                (None, 64)                33024     \n",
      "_________________________________________________________________\n",
      "dropout_10 (Dropout)         (None, 64)                0         \n",
      "_________________________________________________________________\n",
      "dense_9 (Dense)              (None, 5)                 325       \n",
      "=================================================================\n",
      "Total params: 126,533\n",
      "Trainable params: 126,533\n",
      "Non-trainable params: 0\n",
      "_________________________________________________________________\n"
     ]
    }
   ],
   "source": [
    "lstmmodel = Sequential()\n",
    "lstmmodel.add(LSTM(64,input_dim=41, return_sequences=True))  # try using a GRU instead, for fun\n",
    "lstmmodel.add(Dropout(0.1))\n",
    "lstmmodel.add(LSTM(64,return_sequences=True))  # try using a GRU instead, for fun\n",
    "lstmmodel.add(Dropout(0.1))\n",
    "lstmmodel.add(LSTM(64, return_sequences=True))  # try using a GRU instead, for fun\n",
    "lstmmodel.add(Dropout(0.1))\n",
    "lstmmodel.add(LSTM(64, return_sequences=False))  # try using a GRU instead, for fun\n",
    "lstmmodel.add(Dropout(0.1))\n",
    "lstmmodel.add(Dense(5,activation='softmax'))\n",
    "lstmmodel.compile(loss='categorical_crossentropy',optimizer='adam',metrics=['accuracy'])\n",
    "lstmmodel.summary()"
   ]
  },
  {
   "cell_type": "code",
   "execution_count": 14,
   "metadata": {},
   "outputs": [],
   "source": [
    "dnnmodel.load_weights('Colab_run/results/DNN/checkpoint-80.hdf5')\n",
    "cnnmodel.load_weights('Colab_run/results/CNN/checkpoint-54.hdf5')\n",
    "lstmmodel.load_weights('Colab_run/results/LSTM/checkpoint-10.hdf5')"
   ]
  },
  {
   "cell_type": "code",
   "execution_count": 15,
   "metadata": {},
   "outputs": [
    {
     "name": "stdout",
     "output_type": "stream",
     "text": [
      "22544/22544 [==============================] - 3s 151us/step\n",
      "Accuracy :  0.7739088005677786\n",
      "Precision 0.7836809718638511\n",
      "Recall :  0.7739088005677786\n",
      "F1-score :  0.758048679867562\n",
      "Confusion Matrix : \n",
      "[[9366   47  278    1   19]\n",
      " [1207 5810  154    0  467]\n",
      " [ 671  188 1557    0    5]\n",
      " [  56    0    1    8    2]\n",
      " [1879    3  116    3  706]]\n"
     ]
    }
   ],
   "source": [
    "dnnPred = dnnmodel.predict_classes(x_test,verbose=1)\n",
    "printMetrics(y_test,dnnPred)"
   ]
  },
  {
   "cell_type": "code",
   "execution_count": 16,
   "metadata": {},
   "outputs": [
    {
     "name": "stdout",
     "output_type": "stream",
     "text": [
      "22544/22544 [==============================] - 3s 154us/step\n",
      "Accuracy :  0.7537704045422285\n",
      "Precision 0.806164934267871\n",
      "Recall :  0.7537704045422285\n",
      "F1-score :  0.7188649275948918\n",
      "Confusion Matrix : \n",
      "[[9374   53  280    1    3]\n",
      " [1808 5739   91    0    0]\n",
      " [ 536  197 1675    0   13]\n",
      " [  61    0    0    6    0]\n",
      " [2392    3  112    1  199]]\n"
     ]
    }
   ],
   "source": [
    "cnnPred = cnnmodel.predict_classes(x_test_cnn,verbose=1)\n",
    "printMetrics(y_test,cnnPred)"
   ]
  },
  {
   "cell_type": "code",
   "execution_count": 17,
   "metadata": {},
   "outputs": [
    {
     "name": "stdout",
     "output_type": "stream",
     "text": [
      "22544/22544 [==============================] - 1s 62us/step\n",
      "Accuracy :  0.7465844570617459\n",
      "Precision 0.7173759497528693\n",
      "Recall :  0.7465844570617459\n",
      "F1-score :  0.7001530648588894\n",
      "Confusion Matrix : \n",
      "[[9440   59  207    0    5]\n",
      " [1577 5854  206    0    1]\n",
      " [ 678  210 1533    0    0]\n",
      " [  61    0    0    0    6]\n",
      " [2596    6  101    0    4]]\n"
     ]
    },
    {
     "name": "stderr",
     "output_type": "stream",
     "text": [
      "c:\\users\\sriram\\appdata\\local\\programs\\python\\python37\\lib\\site-packages\\sklearn\\metrics\\classification.py:1437: UndefinedMetricWarning: Precision is ill-defined and being set to 0.0 in labels with no predicted samples.\n",
      "  'precision', 'predicted', average, warn_for)\n",
      "c:\\users\\sriram\\appdata\\local\\programs\\python\\python37\\lib\\site-packages\\sklearn\\metrics\\classification.py:1437: UndefinedMetricWarning: F-score is ill-defined and being set to 0.0 in labels with no predicted samples.\n",
      "  'precision', 'predicted', average, warn_for)\n"
     ]
    }
   ],
   "source": [
    "lstmPred = lstmmodel.predict_classes(x_test_lstm,verbose=1)\n",
    "printMetrics(y_test,lstmPred)"
   ]
  },
  {
   "cell_type": "code",
   "execution_count": 18,
   "metadata": {},
   "outputs": [
    {
     "name": "stdout",
     "output_type": "stream",
     "text": [
      "WARNING:tensorflow:From c:\\users\\sriram\\appdata\\local\\programs\\python\\python37\\lib\\site-packages\\keras\\backend\\tensorflow_backend.py:3298: softmax_cross_entropy_with_logits (from tensorflow.python.ops.nn_ops) is deprecated and will be removed in a future version.\n",
      "Instructions for updating:\n",
      "\n",
      "Future major versions of TensorFlow will allow gradients to flow\n",
      "into the labels input on backprop by default.\n",
      "\n",
      "See `tf.nn.softmax_cross_entropy_with_logits_v2`.\n",
      "\n",
      "WARNING:tensorflow:From c:\\users\\sriram\\appdata\\local\\programs\\python\\python37\\lib\\site-packages\\tensorflow\\python\\ops\\math_ops.py:3066: to_int32 (from tensorflow.python.ops.math_ops) is deprecated and will be removed in a future version.\n",
      "Instructions for updating:\n",
      "Use tf.cast instead.\n"
     ]
    }
   ],
   "source": [
    "classifier = KerasClassifier(clip_values=(np.min(x_train), np.max(x_train)), model=dnnmodel)"
   ]
  },
  {
   "cell_type": "code",
   "execution_count": 31,
   "metadata": {},
   "outputs": [],
   "source": [
    "fgsm = FastGradientMethod(classifier, \n",
    "                          eps=.01,\n",
    "                          minimal=True,\n",
    "                          eps_step=0.01,\n",
    "                          num_random_init=35,\n",
    "                          targeted=False,\n",
    "                          batch_size=32)\n",
    "\n",
    "x_test_adv_fgsm = fgsm.generate(x=x_test)"
   ]
  },
  {
   "cell_type": "code",
   "execution_count": 20,
   "metadata": {},
   "outputs": [],
   "source": [
    "jsma=SaliencyMapMethod(classifier,batch_size=32)\n",
    "x_test_adv_jsma=jsma.generate(x=x_test)"
   ]
  },
  {
   "cell_type": "code",
   "execution_count": 32,
   "metadata": {},
   "outputs": [
    {
     "name": "stdout",
     "output_type": "stream",
     "text": [
      " Number of unique features changed : 41\n",
      " Number of average features changed per datapoint  29.044801277501776\n",
      " Top ten features : Index(['protocol_type', 'service', 'flag', 'count', 'srv_count',\n",
      "       'dst_host_count', 'dst_host_srv_count', 'same_srv_rate',\n",
      "       'dst_host_same_srv_rate', 'dst_host_diff_srv_rate'],\n",
      "      dtype='object')\n"
     ]
    },
    {
     "data": {
      "image/png": "[encoded data removed]",
      "text/plain": [
       "<Figure size 432x288 with 1 Axes>"
      ]
     },
     "metadata": {
      "needs_background": "light"
     },
     "output_type": "display_data"
    }
   ],
   "source": [
    "adversarialFeatures(x_test,x_test_adv_fgsm,testdata)"
   ]
  },
  {
   "cell_type": "code",
   "execution_count": 22,
   "metadata": {},
   "outputs": [
    {
     "name": "stdout",
     "output_type": "stream",
     "text": [
      " Number of unique features changed : 41\n",
      " Number of average features changed per datapoint  37.046176366217175\n",
      " Top ten features : Index(['protocol_type', 'service', 'flag', 'count', 'srv_count',\n",
      "       'dst_host_count', 'dst_host_srv_count', 'same_srv_rate',\n",
      "       'dst_host_diff_srv_rate', 'dst_host_same_src_port_rate'],\n",
      "      dtype='object')\n"
     ]
    },
    {
     "data": {
      "image/png": "[encoded data removed]",
      "text/plain": [
       "<Figure size 432x288 with 1 Axes>"
      ]
     },
     "metadata": {
      "needs_background": "light"
     },
     "output_type": "display_data"
    }
   ],
   "source": [
    "adversarialFeatures(x_test,x_test_adv_jsma,testdata)"
   ]
  },
  {
   "cell_type": "code",
   "execution_count": 33,
   "metadata": {},
   "outputs": [
    {
     "name": "stdout",
     "output_type": "stream",
     "text": [
      "22544/22544 [==============================] - 3s 148us/step\n",
      "22544/22544 [==============================] - 3s 150us/step\n",
      "Accuracy :  0.16749467707594037\n",
      "Precision 0.30620367710276203\n",
      "Recall :  0.16749467707594037\n",
      "F1-score :  0.16021691321922113\n",
      "Confusion Matrix : \n",
      "[[2046   21 1259  379 6006]\n",
      " [1532  123 1134    0 4849]\n",
      " [ 591   39  368   18 1405]\n",
      " [  15    0    2    0   50]\n",
      " [1254  167   42    5 1239]]\n",
      "Accuracy :  0.10876508161816892\n",
      "Precision 0.03939336977471973\n",
      "Recall :  0.10876508161816892\n",
      "F1-score :  0.03053454724529507\n",
      "Confusion Matrix : \n",
      "[[  35    0  402    0 9274]\n",
      " [ 718    0    8    0 6912]\n",
      " [  61    0   55    0 2305]\n",
      " [   0    0    0    0   67]\n",
      " [   1    0  340    4 2362]]\n"
     ]
    }
   ],
   "source": [
    "dnnpredfgsm = dnnmodel.predict_classes(x_test_adv_fgsm,verbose=1)\n",
    "dnnpredjsma = dnnmodel.predict_classes(x_test_adv_jsma,verbose=1)\n",
    "printMetrics(y_test,dnnpredfgsm)\n",
    "printMetrics(y_test,dnnpredjsma)"
   ]
  },
  {
   "cell_type": "code",
   "execution_count": 34,
   "metadata": {},
   "outputs": [
    {
     "name": "stdout",
     "output_type": "stream",
     "text": [
      "22544/22544 [==============================] - 3s 149us/step\n",
      "22544/22544 [==============================] - 3s 148us/step\n",
      "Accuracy :  0.37837118523775726\n",
      "Precision 0.358239733561271\n",
      "Recall :  0.37837118523775726\n",
      "F1-score :  0.35827347783217356\n",
      "Confusion Matrix : \n",
      "[[6899 1435 1375    0    2]\n",
      " [1670  969 4999    0    0]\n",
      " [ 751 1008  662    0    0]\n",
      " [  40   16   11    0    0]\n",
      " [1487  978  242    0    0]]\n",
      "Accuracy :  0.10069198012775017\n",
      "Precision 0.242477619215898\n",
      "Recall :  0.10069198012775017\n",
      "F1-score :  0.07449500541027763\n",
      "Confusion Matrix : \n",
      "[[ 263  161 9287    0    0]\n",
      " [ 355  515 6768    0    0]\n",
      " [ 556  370 1492    0    3]\n",
      " [   7    1   58    0    1]\n",
      " [ 390   28 2289    0    0]]\n"
     ]
    }
   ],
   "source": [
    "x_test_adv_cnn_fgsm = np.reshape(x_test_adv_fgsm, (x_test_adv_fgsm.shape[0],x_test_adv_fgsm.shape[1],1))\n",
    "x_test_adv_cnn_jsma = np.reshape(x_test_adv_jsma, (x_test_adv_jsma.shape[0],x_test_adv_jsma.shape[1],1))\n",
    "cnnpredfgsm = cnnmodel.predict_classes(x_test_adv_cnn_fgsm,verbose=1)\n",
    "cnnpredjsma = cnnmodel.predict_classes(x_test_adv_cnn_jsma,verbose=1)\n",
    "printMetrics(y_test,cnnpredfgsm)\n",
    "printMetrics(y_test,cnnpredjsma)"
   ]
  },
  {
   "cell_type": "code",
   "execution_count": 35,
   "metadata": {},
   "outputs": [
    {
     "name": "stdout",
     "output_type": "stream",
     "text": [
      "22544/22544 [==============================] - 1s 43us/step\n",
      "22544/22544 [==============================] - 1s 42us/step\n",
      "Accuracy :  0.2451650106458481\n",
      "Precision 0.32473966381140074\n",
      "Recall :  0.2451650106458481\n",
      "F1-score :  0.25367172406477045\n",
      "Confusion Matrix : \n",
      "[[4229  419 4582    0  481]\n",
      " [2376  549 4713    0    0]\n",
      " [1014  937  470    0    0]\n",
      " [  21    6   30    0   10]\n",
      " [2010  217  201    0  279]]\n",
      "Accuracy :  0.46495741660752304\n",
      "Precision 0.45442810399870764\n",
      "Recall :  0.46495741660752304\n",
      "F1-score :  0.3372930846647964\n",
      "Confusion Matrix : \n",
      "[[9255   59  397    0    0]\n",
      " [7256  241  141    0    0]\n",
      " [1295  141  985    0    0]\n",
      " [  60    2    3    0    2]\n",
      " [2518   88  100    0    1]]\n"
     ]
    }
   ],
   "source": [
    "x_test_adv_lstm_fgsm = np.reshape(x_test_adv_fgsm, (x_test_adv_fgsm.shape[0],1,x_test_adv_fgsm.shape[1]))\n",
    "x_test_adv_lstm_jsma = np.reshape(x_test_adv_jsma, (x_test_adv_jsma.shape[0],1,x_test_adv_jsma.shape[1]))\n",
    "lstmpredfgsm = lstmmodel.predict_classes(x_test_adv_lstm_fgsm,verbose=1)\n",
    "lstmpredjsma = lstmmodel.predict_classes(x_test_adv_lstm_jsma,verbose=1)\n",
    "printMetrics(y_test,lstmpredfgsm)\n",
    "printMetrics(y_test,lstmpredjsma)"
   ]
  },
  {
   "cell_type": "code",
   "execution_count": 37,
   "metadata": {},
   "outputs": [],
   "source": [
    "def advMLEval(ML):\n",
    "    print(\"\\nFGSM\\n\")\n",
    "    printMetrics(y_test, ML.predict(x_test_adv_fgsm))\n",
    "    print(\"\\nJSMA\\n\")\n",
    "    printMetrics(y_test, ML.predict(x_test_adv_jsma))"
   ]
  },
  {
   "cell_type": "code",
   "execution_count": 38,
   "metadata": {},
   "outputs": [
    {
     "name": "stderr",
     "output_type": "stream",
     "text": [
      "c:\\users\\sriram\\appdata\\local\\programs\\python\\python37\\lib\\site-packages\\sklearn\\linear_model\\logistic.py:432: FutureWarning: Default solver will be changed to 'lbfgs' in 0.22. Specify a solver to silence this warning.\n",
      "  FutureWarning)\n",
      "c:\\users\\sriram\\appdata\\local\\programs\\python\\python37\\lib\\site-packages\\sklearn\\linear_model\\logistic.py:469: FutureWarning: Default multi_class will be changed to 'auto' in 0.22. Specify the multi_class option to silence this warning.\n",
      "  \"this warning.\", FutureWarning)\n"
     ]
    },
    {
     "name": "stdout",
     "output_type": "stream",
     "text": [
      "Accuracy :  0.6332948899929027\n",
      "Precision 0.5588961084949342\n",
      "Recall :  0.6332948899929027\n",
      "F1-score :  0.5707330798242316\n",
      "Confusion Matrix : \n",
      "[[8985  650   76    0    0]\n",
      " [2542 4887  209    0    0]\n",
      " [ 890 1126  405    0    0]\n",
      " [  67    0    0    0    0]\n",
      " [2573   20  114    0    0]]\n",
      "\n",
      "FGSM\n",
      "\n",
      "Accuracy :  0.6227821149751597\n",
      "Precision 0.5481161704524244\n",
      "Recall :  0.6227821149751597\n",
      "F1-score :  0.5543466083339869\n",
      "Confusion Matrix : \n",
      "[[8999  655   57    0    0]\n",
      " [2689 4778  171    0    0]\n",
      " [ 923 1235  263    0    0]\n",
      " [  67    0    0    0    0]\n",
      " [2568  120   19    0    0]]\n",
      "\n",
      "JSMA\n",
      "\n",
      "Accuracy :  0.14389638041163946\n",
      "Precision 0.2584972736324518\n",
      "Recall :  0.14389638041163946\n",
      "F1-score :  0.10007934873378088\n",
      "Confusion Matrix : \n",
      "[[ 484  165   67    0 8995]\n",
      " [ 660  216    4    0 6758]\n",
      " [ 408  964  301    0  748]\n",
      " [   9    0    0    0   58]\n",
      " [ 370   86    8    0 2243]]\n"
     ]
    },
    {
     "name": "stderr",
     "output_type": "stream",
     "text": [
      "c:\\users\\sriram\\appdata\\local\\programs\\python\\python37\\lib\\site-packages\\sklearn\\metrics\\classification.py:1437: UndefinedMetricWarning: Precision is ill-defined and being set to 0.0 in labels with no predicted samples.\n",
      "  'precision', 'predicted', average, warn_for)\n",
      "c:\\users\\sriram\\appdata\\local\\programs\\python\\python37\\lib\\site-packages\\sklearn\\metrics\\classification.py:1437: UndefinedMetricWarning: F-score is ill-defined and being set to 0.0 in labels with no predicted samples.\n",
      "  'precision', 'predicted', average, warn_for)\n",
      "c:\\users\\sriram\\appdata\\local\\programs\\python\\python37\\lib\\site-packages\\sklearn\\metrics\\classification.py:1437: UndefinedMetricWarning: Precision is ill-defined and being set to 0.0 in labels with no predicted samples.\n",
      "  'precision', 'predicted', average, warn_for)\n",
      "c:\\users\\sriram\\appdata\\local\\programs\\python\\python37\\lib\\site-packages\\sklearn\\metrics\\classification.py:1437: UndefinedMetricWarning: F-score is ill-defined and being set to 0.0 in labels with no predicted samples.\n",
      "  'precision', 'predicted', average, warn_for)\n",
      "c:\\users\\sriram\\appdata\\local\\programs\\python\\python37\\lib\\site-packages\\sklearn\\metrics\\classification.py:1437: UndefinedMetricWarning: Precision is ill-defined and being set to 0.0 in labels with no predicted samples.\n",
      "  'precision', 'predicted', average, warn_for)\n",
      "c:\\users\\sriram\\appdata\\local\\programs\\python\\python37\\lib\\site-packages\\sklearn\\metrics\\classification.py:1437: UndefinedMetricWarning: F-score is ill-defined and being set to 0.0 in labels with no predicted samples.\n",
      "  'precision', 'predicted', average, warn_for)\n"
     ]
    }
   ],
   "source": [
    "#Machine learning\n",
    "LR = LogisticRegression()\n",
    "LR.fit(x_train,y_train)\n",
    "LR_Predprob=LR.predict_proba(x_test)\n",
    "LR_Pred=LR_Predprob.argmax(axis=1)\n",
    "printMetrics(y_test, LR_Pred)\n",
    "advMLEval(LR)"
   ]
  },
  {
   "cell_type": "code",
   "execution_count": 39,
   "metadata": {},
   "outputs": [
    {
     "name": "stdout",
     "output_type": "stream",
     "text": [
      "Accuracy :  0.44419801277501775\n",
      "Precision 0.6322850713099508\n",
      "Recall :  0.44419801277501775\n",
      "F1-score :  0.48299717828721667\n",
      "Confusion Matrix : \n",
      "[[2225 1099   81 4677 1629]\n",
      " [ 154 5832   16 1020  616]\n",
      " [ 162 1334  919    1    5]\n",
      " [   3    6    0   56    2]\n",
      " [ 788  411  209  317  982]]\n",
      "\n",
      "FGSM\n",
      "\n",
      "Accuracy :  0.33760645848119236\n",
      "Precision 0.22648720611666334\n",
      "Recall :  0.33760645848119236\n",
      "F1-score :  0.25314940439690364\n",
      "Confusion Matrix : \n",
      "[[6375   17    0  111 3208]\n",
      " [5468    2    2 1118 1048]\n",
      " [2123    9    0    2  287]\n",
      " [  52    0    0    3   12]\n",
      " [1447    1   20    8 1231]]\n",
      "\n",
      "JSMA\n",
      "\n",
      "Accuracy :  0.436124911284599\n",
      "Precision 0.293931573605608\n",
      "Recall :  0.436124911284599\n",
      "F1-score :  0.30586671117050707\n",
      "Confusion Matrix : \n",
      "[[9289   52  103   54  213]\n",
      " [7038   10   65  331  194]\n",
      " [1321  105  355   80  560]\n",
      " [  59    0    3    1    4]\n",
      " [2343   69   94   24  177]]\n"
     ]
    }
   ],
   "source": [
    "GNB = GaussianNB()\n",
    "GNB.fit(x_train,y_train)\n",
    "GNB_Predprob=GNB.predict_proba(x_test)\n",
    "GNB_Pred=GNB_Predprob.argmax(axis=1)\n",
    "printMetrics(y_test, GNB_Pred)\n",
    "# np.savetxt(LOG_PATH+'GaussianNB/predict_proba.txt', GNB_Predprob, fmt='%06f')\n",
    "# np.savetxt(LOG_PATH+'GaussianNB/confusion_matrix.txt', confusion_matrix(y_test,GNB_Pred), fmt='%01d')\n",
    "advMLEval(GNB)"
   ]
  },
  {
   "cell_type": "code",
   "execution_count": 40,
   "metadata": {},
   "outputs": [
    {
     "name": "stdout",
     "output_type": "stream",
     "text": [
      "Accuracy :  0.7350514549325763\n",
      "Precision 0.741332354238502\n",
      "Recall :  0.7350514549325763\n",
      "F1-score :  0.7002238901487958\n",
      "Confusion Matrix : \n",
      "[[9431  140  133    1    6]\n",
      " [1399 5534  545    2  158]\n",
      " [ 719  342 1360    0    0]\n",
      " [  53    0    1   10    3]\n",
      " [2341   87   43    0  236]]\n",
      "\n",
      "FGSM\n",
      "\n",
      "Accuracy :  0.6635911994322214\n",
      "Precision 0.617973281099374\n",
      "Recall :  0.6635911994322214\n",
      "F1-score :  0.6147065100032018\n",
      "Confusion Matrix : \n",
      "[[9316  207   64    2  122]\n",
      " [2055 4586  993    0    4]\n",
      " [ 708  674 1039    0    0]\n",
      " [  57    0    1    5    4]\n",
      " [2553  113   27    0   14]]\n",
      "\n",
      "JSMA\n",
      "\n",
      "Accuracy :  0.4927253371185238\n",
      "Precision 0.47951950998531345\n",
      "Recall :  0.4927253371185238\n",
      "F1-score :  0.3850068035350497\n",
      "Confusion Matrix : \n",
      "[[9397  130  184    0    0]\n",
      " [6926  704    8    0    0]\n",
      " [1001  415 1005    0    0]\n",
      " [  64    0    0    2    1]\n",
      " [2648   30   29    0    0]]\n"
     ]
    }
   ],
   "source": [
    "KNN = KNeighborsClassifier()\n",
    "KNN.fit(x_train,y_train)\n",
    "KNN_Predprob=KNN.predict_proba(x_test)\n",
    "KNN_Pred=KNN_Predprob.argmax(axis=1)\n",
    "printMetrics(y_test, KNN_Pred)\n",
    "# np.savetxt(LOG_PATH+'KNeighborsClassifier/predict_proba.txt', KNN_Predprob, fmt='%06f')\n",
    "# np.savetxt(LOG_PATH+'KNeighborsClassifier/confusion_matrix.txt', confusion_matrix(y_test,KNN_Pred), fmt='%01d')\n",
    "advMLEval(KNN)"
   ]
  },
  {
   "cell_type": "markdown",
   "metadata": {},
   "source": [
    "DT = DecisionTreeClassifier()\n",
    "DT.fit(x_train,y_train)\n",
    "DT_Predprob=DT.predict_proba(x_test)\n",
    "DT_Pred=DT_Predprob.argmax(axis=1)\n",
    "printMetrics(y_test, DT_Pred)\n",
    "advMLEval(DT)"
   ]
  },
  {
   "cell_type": "code",
   "execution_count": 42,
   "metadata": {},
   "outputs": [
    {
     "name": "stdout",
     "output_type": "stream",
     "text": [
      "Accuracy :  0.4312455642299503\n",
      "Precision 0.5108228091291401\n",
      "Recall :  0.4312455642299503\n",
      "F1-score :  0.45849390590553374\n",
      "Confusion Matrix : \n",
      "[[2963  173  296   22 6257]\n",
      " [2082 5007  543    1    5]\n",
      " [ 191 1314  906    1    9]\n",
      " [  14    0    1    2   50]\n",
      " [1387   77  364   35  844]]\n",
      "\n",
      "FGSM\n",
      "\n",
      "Accuracy :  0.17281760113555714\n",
      "Precision 0.19719679581885358\n",
      "Recall :  0.17281760113555716\n",
      "F1-score :  0.1474958788312185\n",
      "Confusion Matrix : \n",
      "[[2943  121  272  235 6140]\n",
      " [7453  109   27    1   48]\n",
      " [1955  151  262    3   50]\n",
      " [  10    0    0   17   40]\n",
      " [1299  138  654   51  565]]\n",
      "\n",
      "JSMA\n",
      "\n",
      "Accuracy :  0.038857345635202274\n",
      "Precision 0.20122239680581783\n",
      "Recall :  0.038857345635202274\n",
      "F1-score :  0.06055938373874339\n",
      "Confusion Matrix : \n",
      "[[ 318  101   84 9000  208]\n",
      " [ 782   89    9 6758    0]\n",
      " [ 817  513  341  748    2]\n",
      " [   1    0    0   58    8]\n",
      " [ 272    8  112 2245   70]]\n"
     ]
    }
   ],
   "source": [
    "AB = AdaBoostClassifier(n_estimators=100)\n",
    "AB.fit(x_train,y_train)\n",
    "AB_Predprob=AB.predict_proba(x_test)\n",
    "AB_Pred=AB_Predprob.argmax(axis=1)\n",
    "printMetrics(y_test, AB_Pred)\n",
    "advMLEval(AB)"
   ]
  },
  {
   "cell_type": "code",
   "execution_count": 43,
   "metadata": {},
   "outputs": [
    {
     "name": "stdout",
     "output_type": "stream",
     "text": [
      "Accuracy :  0.7384226401703335\n",
      "Precision 0.8128237460866683\n",
      "Recall :  0.7384226401703335\n",
      "F1-score :  0.6933818336291565\n",
      "Confusion Matrix : \n",
      "[[9465   42  204    0    0]\n",
      " [1909 5700   29    0    0]\n",
      " [ 790  162 1469    0    0]\n",
      " [  58    0    0    9    0]\n",
      " [2615    0   87    1    4]]\n",
      "\n",
      "FGSM\n",
      "\n",
      "Accuracy :  0.3997072391767211\n",
      "Precision 0.2988372304811811\n",
      "Recall :  0.3997072391767211\n",
      "F1-score :  0.30814352646443366\n",
      "Confusion Matrix : \n",
      "[[8326  241 1144    0    0]\n",
      " [4236  276 3126    0    0]\n",
      " [1372  640  409    0    0]\n",
      " [  62    0    5    0    0]\n",
      " [2355  170  182    0    0]]\n",
      "\n",
      "JSMA\n",
      "\n"
     ]
    },
    {
     "name": "stderr",
     "output_type": "stream",
     "text": [
      "c:\\users\\sriram\\appdata\\local\\programs\\python\\python37\\lib\\site-packages\\sklearn\\metrics\\classification.py:1437: UndefinedMetricWarning: Precision is ill-defined and being set to 0.0 in labels with no predicted samples.\n",
      "  'precision', 'predicted', average, warn_for)\n",
      "c:\\users\\sriram\\appdata\\local\\programs\\python\\python37\\lib\\site-packages\\sklearn\\metrics\\classification.py:1437: UndefinedMetricWarning: F-score is ill-defined and being set to 0.0 in labels with no predicted samples.\n",
      "  'precision', 'predicted', average, warn_for)\n"
     ]
    },
    {
     "name": "stdout",
     "output_type": "stream",
     "text": [
      "Accuracy :  0.14185592618878637\n",
      "Precision 0.47632928492876897\n",
      "Recall :  0.14185592618878637\n",
      "F1-score :  0.10954285154089945\n",
      "Confusion Matrix : \n",
      "[[ 531   23 9157    0    0]\n",
      " [ 259  605 6774    0    0]\n",
      " [ 345   15 2061    0    0]\n",
      " [   6    0   58    1    2]\n",
      " [ 451    0 2256    0    0]]\n"
     ]
    }
   ],
   "source": [
    "RF = RandomForestClassifier(n_estimators=100)\n",
    "RF.fit(x_train,y_train)\n",
    "RF_Predprob=RF.predict_proba(x_test)\n",
    "RF_Pred=RF_Predprob.argmax(axis=1)\n",
    "printMetrics(y_test, RF_Pred)\n",
    "advMLEval(RF)"
   ]
  },
  {
   "cell_type": "code",
   "execution_count": 44,
   "metadata": {},
   "outputs": [
    {
     "name": "stdout",
     "output_type": "stream",
     "text": [
      "Accuracy :  0.6651437189496097\n",
      "Precision 0.6820095447742486\n",
      "Recall :  0.6651437189496097\n",
      "F1-score :  0.6159018409341219\n",
      "Confusion Matrix : \n",
      "[[8992  619   99    0    1]\n",
      " [2181 4947  510    0    0]\n",
      " [ 889  478 1054    0    0]\n",
      " [  67    0    0    0    0]\n",
      " [2501   62  142    0    2]]\n",
      "\n",
      "FGSM\n",
      "\n"
     ]
    },
    {
     "name": "stderr",
     "output_type": "stream",
     "text": [
      "c:\\users\\sriram\\appdata\\local\\programs\\python\\python37\\lib\\site-packages\\sklearn\\metrics\\classification.py:1437: UndefinedMetricWarning: Precision is ill-defined and being set to 0.0 in labels with no predicted samples.\n",
      "  'precision', 'predicted', average, warn_for)\n",
      "c:\\users\\sriram\\appdata\\local\\programs\\python\\python37\\lib\\site-packages\\sklearn\\metrics\\classification.py:1437: UndefinedMetricWarning: F-score is ill-defined and being set to 0.0 in labels with no predicted samples.\n",
      "  'precision', 'predicted', average, warn_for)\n"
     ]
    },
    {
     "name": "stdout",
     "output_type": "stream",
     "text": [
      "Accuracy :  0.6325851667849539\n",
      "Precision 0.569868952652842\n",
      "Recall :  0.6325851667849539\n",
      "F1-score :  0.5732114705530813\n",
      "Confusion Matrix : \n",
      "[[8998  655   58    0    0]\n",
      " [2665 4731  242    0    0]\n",
      " [ 947  942  532    0    0]\n",
      " [  67    0    0    0    0]\n",
      " [2578  102   27    0    0]]\n",
      "\n",
      "JSMA\n",
      "\n"
     ]
    },
    {
     "name": "stderr",
     "output_type": "stream",
     "text": [
      "c:\\users\\sriram\\appdata\\local\\programs\\python\\python37\\lib\\site-packages\\sklearn\\metrics\\classification.py:1437: UndefinedMetricWarning: Precision is ill-defined and being set to 0.0 in labels with no predicted samples.\n",
      "  'precision', 'predicted', average, warn_for)\n",
      "c:\\users\\sriram\\appdata\\local\\programs\\python\\python37\\lib\\site-packages\\sklearn\\metrics\\classification.py:1437: UndefinedMetricWarning: F-score is ill-defined and being set to 0.0 in labels with no predicted samples.\n",
      "  'precision', 'predicted', average, warn_for)\n"
     ]
    },
    {
     "name": "stdout",
     "output_type": "stream",
     "text": [
      "Accuracy :  0.4660663591199432\n",
      "Precision 0.3854860214606592\n",
      "Recall :  0.4660663591199432\n",
      "F1-score :  0.34041874424950963\n",
      "Confusion Matrix : \n",
      "[[9481  139   91    0    0]\n",
      " [7318  303   17    0    0]\n",
      " [1148  550  723    0    0]\n",
      " [  67    0    0    0    0]\n",
      " [2610   87   10    0    0]]\n"
     ]
    },
    {
     "name": "stderr",
     "output_type": "stream",
     "text": [
      "c:\\users\\sriram\\appdata\\local\\programs\\python\\python37\\lib\\site-packages\\sklearn\\metrics\\classification.py:1437: UndefinedMetricWarning: Precision is ill-defined and being set to 0.0 in labels with no predicted samples.\n",
      "  'precision', 'predicted', average, warn_for)\n",
      "c:\\users\\sriram\\appdata\\local\\programs\\python\\python37\\lib\\site-packages\\sklearn\\metrics\\classification.py:1437: UndefinedMetricWarning: F-score is ill-defined and being set to 0.0 in labels with no predicted samples.\n",
      "  'precision', 'predicted', average, warn_for)\n"
     ]
    }
   ],
   "source": [
    "LSVM = svm.SVC(kernel='linear',probability=True)\n",
    "LSVM.fit(x_train,y_train)\n",
    "LSVM_Predprob=LSVM.predict_proba(x_test)\n",
    "LSVM_Pred=LSVM_Predprob.argmax(axis=1)\n",
    "printMetrics(y_test, LSVM_Pred)\n",
    "advMLEval(LSVM)"
   ]
  },
  {
   "cell_type": "code",
   "execution_count": null,
   "metadata": {},
   "outputs": [
    {
     "name": "stderr",
     "output_type": "stream",
     "text": [
      "c:\\users\\sriram\\appdata\\local\\programs\\python\\python37\\lib\\site-packages\\sklearn\\svm\\base.py:193: FutureWarning: The default value of gamma will change from 'auto' to 'scale' in version 0.22 to account better for unscaled features. Set gamma explicitly to 'auto' or 'scale' to avoid this warning.\n",
      "  \"avoid this warning.\", FutureWarning)\n"
     ]
    }
   ],
   "source": [
    "RSVM = svm.SVC(kernel='rbf',probability=True)\n",
    "RSVM.fit(x_train,y_train)\n",
    "RSVM_Predprob=RSVM.predict_proba(x_test)\n",
    "RSVM_Pred=RSVM_Predprob.argmax(axis=1)\n",
    "printMetrics(y_test, RSVM_Pred)\n",
    "advMLEval(RSVM)"
   ]
  }
 ],
 "metadata": {
  "kernelspec": {
   "display_name": "Python 3",
   "language": "python",
   "name": "python3"
  },
  "language_info": {
   "codemirror_mode": {
    "name": "ipython",
    "version": 3
   },
   "file_extension": ".py",
   "mimetype": "text/x-python",
   "name": "python",
   "nbconvert_exporter": "python",
   "pygments_lexer": "ipython3",
   "version": "3.7.3"
  }
 },
 "nbformat": 4,
 "nbformat_minor": 2
}
